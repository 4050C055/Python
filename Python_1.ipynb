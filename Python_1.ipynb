{
  "nbformat": 4,
  "nbformat_minor": 0,
  "metadata": {
    "colab": {
      "name": "Python_1",
      "provenance": [],
      "collapsed_sections": [],
      "include_colab_link": true
    },
    "kernelspec": {
      "name": "python3",
      "display_name": "Python 3"
    }
  },
  "cells": [
    {
      "cell_type": "markdown",
      "metadata": {
        "id": "view-in-github",
        "colab_type": "text"
      },
      "source": [
        "<a href=\"https://colab.research.google.com/github/4050C055/Python/blob/master/Python_1.ipynb\" target=\"_parent\"><img src=\"https://colab.research.google.com/assets/colab-badge.svg\" alt=\"Open In Colab\"/></a>"
      ]
    },
    {
      "cell_type": "markdown",
      "metadata": {
        "id": "QvDkhG7ftpN5",
        "colab_type": "text"
      },
      "source": [
        "受難日第一天 20190923"
      ]
    },
    {
      "cell_type": "code",
      "metadata": {
        "id": "-o0SLLZ9rIel",
        "colab_type": "code",
        "outputId": "325afdd5-c889-4bb8-abc6-3c2b8e224236",
        "colab": {
          "base_uri": "https://localhost:8080/",
          "height": 153
        }
      },
      "source": [
        "print(\"Hello world\")\n",
        "print(\"----------*----------\")\n",
        "print(\"---------***---------\")\n",
        "print(\"--------*****--------\")\n",
        "print(\"-------********------\")\n",
        "print(\"----------*----------\")\n",
        "print(\"----------*----------\")\n",
        "print(\"----------*----------\")"
      ],
      "execution_count": 17,
      "outputs": [
        {
          "output_type": "stream",
          "text": [
            "Hello world\n",
            "----------*----------\n",
            "---------***---------\n",
            "--------*****--------\n",
            "-------********------\n",
            "----------*----------\n",
            "----------*----------\n",
            "----------*----------\n"
          ],
          "name": "stdout"
        }
      ]
    },
    {
      "cell_type": "code",
      "metadata": {
        "id": "554qlWuo0GdO",
        "colab_type": "code",
        "colab": {
          "base_uri": "https://localhost:8080/",
          "height": 51
        },
        "outputId": "bad4968a-5329-4419-86f1-15cf84b80769"
      },
      "source": [
        "a = int(input(\"請輸入：\"))\n",
        "a\n",
        "type(a)\n",
        "b=a+1\n",
        "b"
      ],
      "execution_count": 16,
      "outputs": [
        {
          "output_type": "stream",
          "text": [
            "請輸入：100\n"
          ],
          "name": "stdout"
        },
        {
          "output_type": "execute_result",
          "data": {
            "text/plain": [
              "101"
            ]
          },
          "metadata": {
            "tags": []
          },
          "execution_count": 16
        }
      ]
    }
  ]
}